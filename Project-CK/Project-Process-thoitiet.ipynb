{
 "cells": [
  {
   "cell_type": "code",
   "execution_count": 2,
   "metadata": {},
   "outputs": [
    {
     "name": "stdout",
     "output_type": "stream",
     "text": [
      "          Ngay                                     MoTa  Mintemp  Maxtemp  \\\n",
      "0    THÁNG 4 5                  Giông Bão Vào Buổi Sáng       21       25   \n",
      "1    THÁNG 4 6                          Rất nhiều mây       23       28   \n",
      "2    THÁNG 4 7  Mây Vào Buổi Sáng / Nắng Vào Buổi Chiều       23       30   \n",
      "3    THÁNG 4 8  Mây Vào Buổi Sáng / Nắng Vào Buổi Chiều       24       31   \n",
      "4    THÁNG 4 9  Mây Vào Buổi Sáng / Nắng Vào Buổi Chiều       24       32   \n",
      "5   THÁNG 4 10                              Trời nắng       24       32   \n",
      "6   THÁNG 4 11                               Nhiều Mây       23       30   \n",
      "7   THÁNG 4 12                  Giông Bão Vào Buổi Sáng       23       27   \n",
      "8   THÁNG 4 13                  Giông Bão Vào Buổi Sáng       24       30   \n",
      "9   THÁNG 4 14                              Trời nắng       22       30   \n",
      "10  THÁNG 4 15                               Nhiều Mây       21       28   \n",
      "11  THÁNG 4 16                  Giông Bão Vào Buổi Sáng       21       27   \n",
      "12  THÁNG 4 17                               Nhiều mây       22       28   \n",
      "13  THÁNG 4 18                  Giông Bão Vào Buổi Sáng       23       29   \n",
      "14  THÁNG 4 19                         Giông Bão Cô Lập       22       29   \n",
      "\n",
      "   LuongMua           VGio DoAm  \n",
      "0       50%   ĐB 18 km/giờ  77%  \n",
      "1       10%   ĐN 14 km/giờ  81%  \n",
      "2       20%   ĐN 14 km/giờ  79%  \n",
      "3       10%   ĐN 16 km/giờ  79%  \n",
      "4       10%  ĐĐN 12 km/giờ  76%  \n",
      "5       20%  ĐĐN 14 km/giờ  76%  \n",
      "6       20%    Đ 14 km/giờ  78%  \n",
      "7       50%    Đ 13 km/giờ  81%  \n",
      "8       40%  ĐĐN 13 km/giờ  80%  \n",
      "9       20%  ĐĐB 14 km/giờ  80%  \n",
      "10      20%   ĐB 12 km/giờ  70%  \n",
      "11      40%  ĐĐB 12 km/giờ  73%  \n",
      "12      20%    Đ 13 km/giờ  74%  \n",
      "13      40%    Đ 14 km/giờ  75%  \n",
      "14      30%  ĐĐB 12 km/giờ  76%  \n"
     ]
    }
   ],
   "source": [
    "# -*- coding: utf-8 -*-\n",
    "\"\"\"\n",
    "Created on Fri Mar 29 01:01:59 2019\n",
    "\n",
    "@author: Chuong Pham\n",
    "\"\"\"\n",
    "\n",
    "import numpy as np\n",
    "import pandas as pd\n",
    "import matplotlib.pyplot as plt\n",
    "import seaborn as sns\n",
    "sns.set_style('darkgrid')\n",
    "\n",
    "df = pd.read_csv('thoitiet.csv')\n",
    "print(df)\n",
    "################"
   ]
  },
  {
   "cell_type": "code",
   "execution_count": 6,
   "metadata": {
    "scrolled": false
   },
   "outputs": [
    {
     "data": {
      "text/plain": [
       "<matplotlib.axes._subplots.AxesSubplot at 0x1751367f748>"
      ]
     },
     "execution_count": 6,
     "metadata": {},
     "output_type": "execute_result"
    },
    {
     "data": {
      "image/png": "[encoded data removed]",
      "text/plain": [
       "<Figure size 1224x216 with 1 Axes>"
      ]
     },
     "metadata": {},
     "output_type": "display_data"
    }
   ],
   "source": [
    "plt.figure(figsize =(17,3))\n",
    "sns.barplot(x='Ngay', y='Mintemp', palette=\"rocket\",data=df)\n"
   ]
  },
  {
   "cell_type": "code",
   "execution_count": null,
   "metadata": {},
   "outputs": [],
   "source": []
  }
 ],
 "metadata": {
  "kernelspec": {
   "display_name": "Python 3",
   "language": "python",
   "name": "python3"
  },
  "language_info": {
   "codemirror_mode": {
    "name": "ipython",
    "version": 3
   },
   "file_extension": ".py",
   "mimetype": "text/x-python",
   "name": "python",
   "nbconvert_exporter": "python",
   "pygments_lexer": "ipython3",
   "version": "3.7.1"
  }
 },
 "nbformat": 4,
 "nbformat_minor": 2
}
